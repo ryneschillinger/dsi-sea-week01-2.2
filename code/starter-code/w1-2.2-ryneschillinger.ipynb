{
 "cells": [
  {
   "cell_type": "code",
   "execution_count": 1,
   "metadata": {
    "collapsed": false
   },
   "outputs": [
    {
     "name": "stdout",
     "output_type": "stream",
     "text": [
      "16\n"
     ]
    }
   ],
   "source": [
    "# write a function with one argument. Find the area of a square. \n",
    "def areaSquare(side):\n",
    "    return side ** 2\n",
    "\n",
    "print areaSquare(4)"
   ]
  },
  {
   "cell_type": "code",
   "execution_count": 2,
   "metadata": {
    "collapsed": false
   },
   "outputs": [
    {
     "name": "stdout",
     "output_type": "stream",
     "text": [
      "54\n"
     ]
    }
   ],
   "source": [
    "# write a function with two arguments. Find the area of a rectangle. \n",
    "def areaRect(length,breadth):\n",
    "    return length * breadth\n",
    "\n",
    "print areaRect(9,6)"
   ]
  },
  {
   "cell_type": "code",
   "execution_count": 3,
   "metadata": {
    "collapsed": false
   },
   "outputs": [
    {
     "name": "stdout",
     "output_type": "stream",
     "text": [
      "94\n"
     ]
    }
   ],
   "source": [
    "# write a function with three arguments. Find the surface area of cuboid.\n",
    "def surfaceAreaCuboid(length,breadth,height): \n",
    "    area = 2 * (length*breadth + breadth*height + length*height)\n",
    "    return area\n",
    "    \n",
    "print surfaceAreaCuboid(3,4,5)"
   ]
  },
  {
   "cell_type": "code",
   "execution_count": 9,
   "metadata": {
    "collapsed": false
   },
   "outputs": [
    {
     "name": "stdout",
     "output_type": "stream",
     "text": [
      "47\n"
     ]
    }
   ],
   "source": [
    "# Write a function to find the Max of three numbers.\n",
    "def max_number(x,y,z):\n",
    "    numbers = [x,y,z]\n",
    "    numbers = sorted(numbers)\n",
    "    return numbers[-1]\n",
    "\n",
    "print max_number(3,47,19)"
   ]
  },
  {
   "cell_type": "code",
   "execution_count": 83,
   "metadata": {
    "collapsed": false
   },
   "outputs": [
    {
     "name": "stdout",
     "output_type": "stream",
     "text": [
      "35\n"
     ]
    }
   ],
   "source": [
    "# Write a function to sum all the numbers in a list.\n",
    "a_list = [4,5,7,19]\n",
    "\n",
    "def sum_list(values):\n",
    "    return sum(a_list)\n",
    "\n",
    "print sum_list(a_list)"
   ]
  },
  {
   "cell_type": "code",
   "execution_count": 88,
   "metadata": {
    "collapsed": false
   },
   "outputs": [
    {
     "name": "stdout",
     "output_type": "stream",
     "text": [
      "2660\n"
     ]
    }
   ],
   "source": [
    "# Write a function to multiply all the numbers in a list.\n",
    "a_list = [4,5,7,19]\n",
    "\n",
    "def mult_list(values):\n",
    "    total = 1\n",
    "    for a in values:\n",
    "        total = total * a\n",
    "    return total\n",
    "\n",
    "print mult_list(a_list)"
   ]
  },
  {
   "cell_type": "code",
   "execution_count": 22,
   "metadata": {
    "collapsed": false
   },
   "outputs": [
    {
     "name": "stdout",
     "output_type": "stream",
     "text": [
      "nos pu tahw\n"
     ]
    }
   ],
   "source": [
    "# Write a function to reverse a string.\n",
    "def reverse(input):\n",
    "    word = str(input)\n",
    "    return word[::-1]\n",
    "\n",
    "print reverse(\"what up son\")"
   ]
  },
  {
   "cell_type": "code",
   "execution_count": 32,
   "metadata": {
    "collapsed": false
   },
   "outputs": [
    {
     "name": "stdout",
     "output_type": "stream",
     "text": [
      "6\n"
     ]
    }
   ],
   "source": [
    "# Write a function to calculate the factorial of a number (non-negative integer).\n",
    "# The function accepts the number as a argument.\n",
    "def factorial(num):\n",
    "    result = 1\n",
    "    for i in range(1,num+1):\n",
    "        result = result * i\n",
    "    return result\n",
    "\n",
    "print factorial(3)"
   ]
  },
  {
   "cell_type": "code",
   "execution_count": 37,
   "metadata": {
    "collapsed": false
   },
   "outputs": [
    {
     "name": "stdout",
     "output_type": "stream",
     "text": [
      "How many lbs does your bag weigh? 60\n",
      "You need to check your bag.\n"
     ]
    }
   ],
   "source": [
    "# Write a function to check whether a number is in a given range.\n",
    "def in_range():\n",
    "    acpt_range = 50\n",
    "    weight = int(raw_input(\"How many lbs does your bag weigh? \"))\n",
    "    if weight <= acpt_range:\n",
    "        print \"You're good to go!\"\n",
    "    else:\n",
    "        print \"You need to check your bag.\"\n",
    "    return\n",
    "\n",
    "in_range()"
   ]
  },
  {
   "cell_type": "code",
   "execution_count": 43,
   "metadata": {
    "collapsed": false
   },
   "outputs": [
    {
     "data": {
      "text/plain": [
       "{'Lowercase': 4, 'Uppercase': 5}"
      ]
     },
     "execution_count": 43,
     "metadata": {},
     "output_type": "execute_result"
    }
   ],
   "source": [
    "# Write a function that accepts a string\n",
    "# Calculate the number of upper case letters and lower case letters.\n",
    "\n",
    "def count_letters(word):\n",
    "    counted = {\"Uppercase\":0, \"Lowercase\":0}\n",
    "    for x in word:\n",
    "        if x.isupper():\n",
    "            counted[\"Uppercase\"] += 1\n",
    "        elif x.islower():\n",
    "            counted[\"Lowercase\"] += 1\n",
    "        else:\n",
    "            pass\n",
    "    return counted\n",
    "\n",
    "count_letters(\"ASAP Rocky\")"
   ]
  },
  {
   "cell_type": "code",
   "execution_count": 49,
   "metadata": {
    "collapsed": false
   },
   "outputs": [
    {
     "name": "stdout",
     "output_type": "stream",
     "text": [
      "Common numbers: [1, 2, 3, 4, 5]\n"
     ]
    }
   ],
   "source": [
    "# Write a function that takes a list and returns a new list with unique elements of the first list.\n",
    "\n",
    "sample = [1,2,3,3,3,3,4,5]\n",
    "\n",
    "def common_list(input):\n",
    "    unique = []\n",
    "    for i in input:\n",
    "        if i not in unique:\n",
    "            unique.append(i)\n",
    "        else:\n",
    "            pass\n",
    "    print \"Common numbers:\", unique\n",
    "\n",
    "common_list(sample)"
   ]
  },
  {
   "cell_type": "code",
   "execution_count": 82,
   "metadata": {
    "collapsed": false
   },
   "outputs": [
    {
     "name": "stdout",
     "output_type": "stream",
     "text": [
      "True\n"
     ]
    }
   ],
   "source": [
    "# Write a function that takes a number as a parameter and check the number is prime or not.\n",
    "def is_prime(num):\n",
    "    n = int(num)\n",
    "    is_prime = True\n",
    "    if n < 2:\n",
    "        is_prime = False\n",
    "    else:\n",
    "        for a in range(2,n):\n",
    "            if n % a == 0:\n",
    "                is_prime = False\n",
    "            else:\n",
    "                is_prime = True\n",
    "    print is_prime\n",
    "\n",
    "is_prime(10)"
   ]
  },
  {
   "cell_type": "code",
   "execution_count": null,
   "metadata": {
    "collapsed": true
   },
   "outputs": [],
   "source": []
  }
 ],
 "metadata": {
  "kernelspec": {
   "display_name": "Python [Root]",
   "language": "python",
   "name": "Python [Root]"
  },
  "language_info": {
   "codemirror_mode": {
    "name": "ipython",
    "version": 2
   },
   "file_extension": ".py",
   "mimetype": "text/x-python",
   "name": "python",
   "nbconvert_exporter": "python",
   "pygments_lexer": "ipython2",
   "version": "2.7.12"
  }
 },
 "nbformat": 4,
 "nbformat_minor": 0
}
